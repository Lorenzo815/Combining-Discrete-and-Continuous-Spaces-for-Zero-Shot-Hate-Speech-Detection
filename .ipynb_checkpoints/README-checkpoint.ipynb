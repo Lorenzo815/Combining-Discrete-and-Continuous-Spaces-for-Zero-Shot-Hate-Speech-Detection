{
 "cells": [
  {
   "cell_type": "markdown",
   "id": "81eb1799-8581-4a9d-92e1-e6fefaeb9811",
   "metadata": {},
   "source": [
    "# Test\n",
    "\n",
    "Alo alo"
   ]
  }
 ],
 "metadata": {
  "kernelspec": {
   "display_name": "Python 3 (ipykernel)",
   "language": "python",
   "name": "python3"
  },
  "language_info": {
   "codemirror_mode": {
    "name": "ipython",
    "version": 3
   },
   "file_extension": ".py",
   "mimetype": "text/x-python",
   "name": "python",
   "nbconvert_exporter": "python",
   "pygments_lexer": "ipython3",
   "version": "3.9.13"
  }
 },
 "nbformat": 4,
 "nbformat_minor": 5
}
